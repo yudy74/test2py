{
 "cells": [
  {
   "cell_type": "markdown",
   "metadata": {
    "id": "KKNaIYJXTyBz"
   },
   "source": [
    "## Welcome!\n",
    "Halo, teman-teman!\n",
    "Selamat datang di perjalanan seru kita belajar **Python untuk AI**! 🚀\n",
    "\n",
    "Di sesi onboarding ini, kita bakal menyiapkan semua alat yang dibutuhkan supaya nanti belajarnya lancar.\n",
    "Jangan khawatir kalau kamu masih baru di dunia coding atau AI, kita bakal pelan-pelan dan santai aja. 😃\n",
    "\n",
    "Setelah menyelesaikan modul ini, kamu bakal:\n",
    "- Punya **VS Code** buat coding Python\n",
    "- Bisa pakai **Jupyter Notebook** langsung di VS Code\n",
    "- Mengaktifkan **GitHub Copilot** sebagai asisten coding AI\n",
    "- Memahami dasar **Input/Output (I/O)** di Python\n",
    "\n",
    "Siap? Yuk, kita mulai! ✨"
   ]
  },
  {
   "cell_type": "markdown",
   "metadata": {
    "id": "NzVKSjZ5T2nn"
   },
   "source": [
    "## 1. Install Python\n",
    "1. Kunjungi situs resmi Python:\n",
    "   [https://www.python.org/downloads](https://www.python.org/downloads)\n",
    "\n",
    "2. Pilih versi **Python 3.x.x** sesuai sistem operasi kamu:\n",
    "   - Windows\n",
    "   - macOS\n",
    "   - Linux\n",
    "\n",
    "3. **Saat install di Windows**, jangan lupa centang:\n",
    "   ✅ **\"Add Python to PATH\"**\n",
    "\n",
    "4. Klik **Install Now** dan tunggu sampai selesai.\n",
    "\n",
    "### Cek Instalasi Python\n",
    "\n",
    "Buka terminal / command prompt, lalu ketik:\n",
    "\n",
    "```bash\n",
    "python --version\n",
    "\n",
    "```\n",
    "### Buat Folder Proyek\n",
    "`mkdir belajar-python`\n",
    "`cd belajar-python`\n",
    "\n",
    "\n",
    "### Buat Virtual Environment\n",
    "`python -m venv myenv`\n",
    "Ini akan membuat folder myenv berisi virtual environment untuk proyek ini saja.\n",
    "\n",
    "\n",
    "### Aktifkan Virtual Environment\n",
    "#### Windows:\n",
    "`myenv\\Scripts\\activate`\n",
    "\n",
    "#### MacOS / Linux:\n",
    "`source myenv/bin/activate`\n",
    "\n",
    "Setelah aktif, akan muncul tanda (myenv) di terminal kamu.\n",
    "\n"
   ]
  },
  {
   "cell_type": "markdown",
   "metadata": {
    "id": "M51eIIBJTyB0"
   },
   "source": [
    "## 2. Install VS Code\n",
    "\n",
    "### Kenapa VS Code?\n",
    "VS Code adalah **code editor** ringan dan fleksibel yang banyak digunakan oleh developer, termasuk untuk pengembangan AI. Keunggulannya:\n",
    "1. Gratis dan open-source\n",
    "2. Banyak ekstensi untuk meningkatkan produktivitas\n",
    "3. Mendukung Python dengan sangat baik\n",
    "\n",
    "### Cara Install:\n",
    "1. Download **VS Code** di [https://code.visualstudio.com/](https://code.visualstudio.com/)\n",
    "2. Pilih versi sesuai dengan sistem operasi kamu (Windows, macOS, atau Linux)\n",
    "3. Install seperti biasa dengan mengikuti instruksi di layar\n",
    "4. Setelah selesai, buka VS Code dan **install ekstensi Python**:\n",
    "   - Klik ikon **Extensions** di sidebar kiri (atau tekan `Ctrl + Shift + X`)\n",
    "   - Cari **Python**, lalu klik **Install**\n",
    "   - Pastikan Python Extension sudah aktif dengan membuka file Python (`.py`) dan melihat apakah ada **syntax highlighting**\n"
   ]
  },
  {
   "cell_type": "markdown",
   "metadata": {
    "id": "FqettDlSTyB0"
   },
   "source": [
    "## 3. Setup Jupyter Notebook di VS Code\n",
    "\n",
    "### Kenapa Pakai Jupyter Notebook?\n",
    "Jupyter Notebook memungkinkan kamu menjalankan kode **baris per baris**, yang sangat berguna untuk **eksplorasi data dan AI**. Beberapa fitur unggulannya:\n",
    "1. Interaktif, cocok untuk eksperimen\n",
    "2. Bisa menampilkan grafik langsung di dalam notebook\n",
    "3. Mudah digunakan tanpa perlu terminal tambahan\n",
    "\n",
    "### Cara Menggunakan Jupyter Notebook di VS Code:\n",
    "1. **Install ekstensi Python di VS Code** (jika belum terpasang)\n",
    "2. **Install ekstensi Jupyter**:\n",
    "   - Buka **VS Code** dan masuk ke menu **Extensions** (`Ctrl + Shift + X`)\n",
    "   - Cari **Jupyter**, lalu klik **Install**\n",
    "3. **Pastikan Jupyter terinstall di sistem kamu** dengan menjalankan perintah berikut di terminal:\n",
    "   ```sh\n",
    "   pip install jupyter\n",
    "   ```\n",
    "4. **Buka file baru dengan ekstensi `.ipynb`**\n",
    "5. VS Code akan otomatis mendeteksi dan membuka **Jupyter Notebook interface**\n",
    "6. Jalankan sel kode dengan menekan tombol **Run**\n"
   ]
  },
  {
   "cell_type": "markdown",
   "metadata": {
    "id": "ETJ2i7iLTyB1"
   },
   "source": [
    "## 4. GitHub Copilot\n",
    "\n",
    "### Apa Itu GitHub Copilot?\n",
    "GitHub Copilot adalah AI pair programmer yang dikembangkan oleh GitHub dan OpenAI. Copilot terintegrasi langsung dengan code editor seperti Visual Studio Code dan bisa memberikan saran kode secara real-time, melengkapi fungsi, serta membuat blok kode berdasarkan konteks dan komentar pengguna.\n",
    "\n",
    "### Cara Kerja Copilot\n",
    "\n",
    "Copilot menggunakan model AI bernama Codex yang telah dilatih dari miliaran baris kode open-source. Saat pengguna mulai menulis kode atau komentar, Copilot akan:\n",
    "\n",
    "1. Membaca konteks dari kode yang sedang ditulis.\n",
    "2. Memprediksi maksud pengguna berdasarkan komentar atau struktur kode.\n",
    "3. Memberikan saran atau melengkapi kode langsung di editor.\n",
    "\n",
    "### Manfaat GitHub Copilot untuk Developer\n",
    "\n",
    "| Kategori | Manfaat |\n",
    "|---------|---------|\n",
    "| Produktivitas | Mempercepat penulisan kode dan mengurangi waktu debugging |\n",
    "| Pembelajaran | Memberikan contoh sintaks dan solusi dari algoritma sulit |\n",
    "| Eksplorasi Teknologi | Membantu memahami framework/library baru |\n",
    "| Code Hygiene | Membantu menjaga kualitas kode tetap bersih dan efisien |\n",
    "| Boilerplate Generator | Menulis ulang konfigurasi atau kode dasar dengan cepat |\n",
    "\n",
    "\n",
    "### Cara Install dan Aktivasi:\n",
    "1. Pastikan kamu sudah punya akun **GitHub**. Jika belum, daftar di [https://github.com/](https://github.com/)\n",
    "2. Buka **VS Code** dan masuk ke menu **Extensions** (`Ctrl + Shift + X`)\n",
    "3. Cari **GitHub Copilot**, lalu klik **Install**\n",
    "4. Setelah instalasi selesai, login ke akun GitHub kamu\n",
    "5. Buka file Python dan coba mulai mengetik kode. Copilot akan memberikan **sugesti otomatis** di layar!\n",
    "\n",
    "📝 **Catatan:** GitHub Copilot bisa berbayar, tapi ada **trial gratis** yang bisa kamu coba."
   ]
  },
  {
   "cell_type": "markdown",
   "metadata": {
    "id": "RWERM2p7TyB1"
   },
   "source": [
    "### Studi Kasus: Belajar Coding Pakai Komentar\n",
    "#### Python Example 1: Hitung Luas Persegi Panjang"
   ]
  },
  {
   "cell_type": "code",
   "execution_count": 1,
   "metadata": {
    "id": "uQgB1vxxTyB1"
   },
   "outputs": [
    {
     "name": "stdout",
     "output_type": "stream",
     "text": [
      "Luas persegi panjang adalah: 50\n"
     ]
    }
   ],
   "source": [
    "# Menghitung luas persegi panjang\n",
    "panjang = 10\n",
    "lebar = 5\n",
    "# Luas = panjang * lebar\n",
    "luas = panjang * lebar\n",
    "print(\"Luas persegi panjang adalah:\", luas)"
   ]
  },
  {
   "cell_type": "markdown",
   "metadata": {
    "id": "uKNx1SJGTyB1"
   },
   "source": [
    "#### Python Example 2: Cek Bilangan Ganjil atau Genap"
   ]
  },
  {
   "cell_type": "code",
   "execution_count": 2,
   "metadata": {
    "id": "MacQN9MITyB1"
   },
   "outputs": [
    {
     "name": "stdout",
     "output_type": "stream",
     "text": [
      "7 adalah angka ganjil\n"
     ]
    }
   ],
   "source": [
    "# Memeriksa apakah sebuah angka ganjil atau genap\n",
    "angka = 7\n",
    "if angka % 2 == 0:\n",
    "    print(angka, \"adalah angka genap\")\n",
    "else:\n",
    "    print(angka, \"adalah angka ganjil\")"
   ]
  },
  {
   "cell_type": "markdown",
   "metadata": {
    "id": "GGSgyHcLTyB2"
   },
   "source": [
    "## 5. Input/Output (I/O) di Python\n",
    "\n",
    "### Apa Itu I/O?\n",
    "I/O adalah cara program berinteraksi dengan pengguna dan lingkungan, misalnya:\n",
    "- **Input:** Menerima data dari pengguna\n",
    "- **Output:** Menampilkan data ke layar atau menyimpannya ke file"
   ]
  },
  {
   "cell_type": "code",
   "execution_count": 3,
   "metadata": {
    "id": "bqTQoR8qTyB2",
    "outputId": "f7fe1775-dfb5-400b-b718-0f275b4150fb"
   },
   "outputs": [
    {
     "name": "stdout",
     "output_type": "stream",
     "text": [
      "Halo, joni! Selamat datang di bootcamp Python AI.\n"
     ]
    }
   ],
   "source": [
    "# 1. Input dari User\n",
    "# Kita bisa pakai `input()` untuk menerima data dari user:\n",
    "nama = input(\"Masukkan nama kamu: \")\n",
    "print(f\"Halo, {nama}! Selamat datang di bootcamp Python AI.\")"
   ]
  },
  {
   "cell_type": "code",
   "execution_count": 4,
   "metadata": {
    "id": "zEhy3hUeTyB2"
   },
   "outputs": [],
   "source": [
    "# 2. Menulis ke File\n",
    "with open(\"output.txt\", \"w\") as file:\n",
    "    file.write(\"Ini adalah contoh teks yang disimpan di file.\")"
   ]
  },
  {
   "cell_type": "code",
   "execution_count": 5,
   "metadata": {
    "id": "3Gl_KdTBTyB2",
    "outputId": "a9b141d0-8c1c-4a0e-8a30-49f634018052"
   },
   "outputs": [
    {
     "name": "stdout",
     "output_type": "stream",
     "text": [
      "Isi file: Ini adalah contoh teks yang disimpan di file.\n"
     ]
    }
   ],
   "source": [
    "# 3. Membaca file\n",
    "with open(\"output.txt\", \"r\") as file:\n",
    "    isi = file.read()\n",
    "    print(\"Isi file:\", isi)"
   ]
  },
  {
   "cell_type": "code",
   "execution_count": 6,
   "metadata": {
    "id": "FK3lm5YpTyB2"
   },
   "outputs": [
    {
     "name": "stdout",
     "output_type": "stream",
     "text": [
      "['Nama', 'Usia', 'Kota']\n",
      "['Aldi', '25', 'Jakarta']\n",
      "['Nina', '22', 'Bandung']\n"
     ]
    }
   ],
   "source": [
    "# 4. Menulis dan Membaca File CSV\n",
    "# CSV adalah format yang sering digunakan dalam data science dan AI\n",
    "import csv\n",
    "\n",
    "# Menulis ke file CSV\n",
    "with open(\"data.csv\", \"w\", newline=\"\") as file:\n",
    "    writer = csv.writer(file)\n",
    "    writer.writerow([\"Nama\", \"Usia\", \"Kota\"])\n",
    "    writer.writerow([\"Aldi\", 25, \"Jakarta\"])\n",
    "    writer.writerow([\"Nina\", 22, \"Bandung\"])\n",
    "\n",
    "# Membaca file CSV\n",
    "with open(\"data.csv\", \"r\") as file:\n",
    "    reader = csv.reader(file)\n",
    "    for row in reader:\n",
    "        print(row)"
   ]
  },
  {
   "cell_type": "markdown",
   "metadata": {
    "id": "ywGjVCaKTyB3"
   },
   "source": [
    "## Kesimpulan\n",
    "Setelah menyelesaikan modul onboarding ini, kamu sekarang sudah:\n",
    "- Menginstal VS Code dan ekstensi Python\n",
    "- Menggunakan Jupyter Notebook langsung di VS Code\n",
    "- Mengaktifkan GitHub Copilot\n",
    "- Memahami dasar I/O di Python\n",
    "\n",
    "Selanjutnya, kita akan mulai belajar **Python Fundamentals**! 🎉"
   ]
  }
 ],
 "metadata": {
  "colab": {
   "provenance": []
  },
  "kernelspec": {
   "display_name": "Python 3",
   "language": "python",
   "name": "python3"
  },
  "language_info": {
   "codemirror_mode": {
    "name": "ipython",
    "version": 3
   },
   "file_extension": ".py",
   "mimetype": "text/x-python",
   "name": "python",
   "nbconvert_exporter": "python",
   "pygments_lexer": "ipython3",
   "version": "3.12.2"
  }
 },
 "nbformat": 4,
 "nbformat_minor": 0
}
