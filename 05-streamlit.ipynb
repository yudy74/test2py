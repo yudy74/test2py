{
 "cells": [
  {
   "cell_type": "markdown",
   "id": "9f8d21c8",
   "metadata": {
    "id": "9f8d21c8"
   },
   "source": [
    "# Building UI in Python dengan Streamlit\n",
    "Streamlit adalah library Python open-source yang digunakan untuk membuat antarmuka pengguna (UI) berbasis web dengan cepat dan mudah. Dengan hanya beberapa baris kode Python, kamu bisa membuat dashboard interaktif, aplikasi data science, bahkan aplikasi berbasis AI."
   ]
  },
  {
   "cell_type": "markdown",
   "id": "982ae992",
   "metadata": {
    "id": "982ae992"
   },
   "source": [
    "## Kenapa Streamlit?\n",
    "- Gak perlu tahu HTML, CSS, atau JavaScript.\n",
    "- Semudah nulis script Python biasa.\n",
    "- Bisa langsung melihat hasilnya secara real-time di browser.\n",
    "- Cocok untuk prototipe aplikasi atau project akhir.\n"
   ]
  },
  {
   "cell_type": "markdown",
   "id": "8612d028",
   "metadata": {
    "id": "8612d028"
   },
   "source": [
    "## Instalasi & Setup Awal\n",
    "### 1. Instalasi Streamlit\n",
    "Sebelum mulai, pastikan Python dan pip sudah terinstall. Kalau belum, bisa install Python dari https://python.org.\n",
    "Lalu install Streamlit lewat terminal / command prompt:\n",
    "```\n",
    "    pip install streamlit\n",
    "```\n",
    "\n",
    "### 2. Cek Instalasi\n",
    "Setelah selesai, jalankan:\n",
    "```\n",
    "    streamlit hello\n",
    "```\n",
    "Kalau berhasil, akan terbuka jendela browser dengan demo Streamlit."
   ]
  },
  {
   "cell_type": "markdown",
   "id": "8ecd4b32",
   "metadata": {
    "id": "8ecd4b32"
   },
   "source": [
    "## Membuat UI Komponen Dasar\n",
    "Kita akan mulai dengan file Python sederhana. Buat file `app.py` dan isi seperti ini:"
   ]
  },
  {
   "cell_type": "code",
   "execution_count": 1,
   "id": "41cd0abf",
   "metadata": {
    "id": "41cd0abf"
   },
   "outputs": [
    {
     "name": "stderr",
     "output_type": "stream",
     "text": [
      "2025-06-01 14:55:28.762 WARNING streamlit.runtime.scriptrunner_utils.script_run_context: Thread 'MainThread': missing ScriptRunContext! This warning can be ignored when running in bare mode.\n",
      "2025-06-01 14:55:29.002 \n",
      "  \u001b[33m\u001b[1mWarning:\u001b[0m to view this Streamlit app on a browser, run it with the following\n",
      "  command:\n",
      "\n",
      "    streamlit run C:\\Users\\yudy\\AppData\\Roaming\\Python\\Python312\\site-packages\\ipykernel_launcher.py [ARGUMENTS]\n",
      "2025-06-01 14:55:29.003 Thread 'MainThread': missing ScriptRunContext! This warning can be ignored when running in bare mode.\n",
      "2025-06-01 14:55:29.003 Thread 'MainThread': missing ScriptRunContext! This warning can be ignored when running in bare mode.\n",
      "2025-06-01 14:55:29.003 Thread 'MainThread': missing ScriptRunContext! This warning can be ignored when running in bare mode.\n",
      "2025-06-01 14:55:29.004 Thread 'MainThread': missing ScriptRunContext! This warning can be ignored when running in bare mode.\n",
      "2025-06-01 14:55:29.004 Thread 'MainThread': missing ScriptRunContext! This warning can be ignored when running in bare mode.\n",
      "2025-06-01 14:55:29.005 Thread 'MainThread': missing ScriptRunContext! This warning can be ignored when running in bare mode.\n",
      "2025-06-01 14:55:29.006 Thread 'MainThread': missing ScriptRunContext! This warning can be ignored when running in bare mode.\n",
      "2025-06-01 14:55:29.006 Session state does not function when running a script without `streamlit run`\n",
      "2025-06-01 14:55:29.006 Thread 'MainThread': missing ScriptRunContext! This warning can be ignored when running in bare mode.\n",
      "2025-06-01 14:55:29.008 Thread 'MainThread': missing ScriptRunContext! This warning can be ignored when running in bare mode.\n",
      "2025-06-01 14:55:29.008 Thread 'MainThread': missing ScriptRunContext! This warning can be ignored when running in bare mode.\n",
      "2025-06-01 14:55:29.008 Thread 'MainThread': missing ScriptRunContext! This warning can be ignored when running in bare mode.\n",
      "2025-06-01 14:55:29.009 Thread 'MainThread': missing ScriptRunContext! This warning can be ignored when running in bare mode.\n",
      "2025-06-01 14:55:29.009 Thread 'MainThread': missing ScriptRunContext! This warning can be ignored when running in bare mode.\n",
      "2025-06-01 14:55:29.010 Thread 'MainThread': missing ScriptRunContext! This warning can be ignored when running in bare mode.\n"
     ]
    }
   ],
   "source": [
    "import streamlit as st\n",
    "\n",
    "# Judul aplikasi\n",
    "st.title(\"Aplikasi Quiz Sederhana\")\n",
    "\n",
    "# Teks biasa\n",
    "st.write(\"Selamat datang di aplikasi quiz!\")\n",
    "\n",
    "# Input teks\n",
    "name = st.text_input(\"Masukkan nama kamu:\")\n",
    "\n",
    "# Tombol\n",
    "if st.button(\"Mulai Quiz\"):\n",
    "    st.write(f\"Halo, {name}! Ayo kita mulai kuisnya.\")"
   ]
  },
  {
   "cell_type": "markdown",
   "id": "803a46a5",
   "metadata": {
    "id": "803a46a5"
   },
   "source": [
    "setelah membuat file `app.py` jalankan perintah `streamlit run app.py` di terminal"
   ]
  },
  {
   "cell_type": "markdown",
   "id": "0d703389",
   "metadata": {
    "id": "0d703389"
   },
   "source": [
    "penjelasan komponen\n",
    "| **Komponen**       | **Fungsi**                                                                 |\n",
    "|--------------------|----------------------------------------------------------------------------|\n",
    "| `st.title()`        | Menampilkan **judul besar** di halaman aplikasi.                          |\n",
    "| `st.write()`        | Menampilkan **teks biasa**, angka, dataframe, atau objek Python lainnya.   |\n",
    "| `st.text_input()`   | Membuat **input teks** dari pengguna.                                      |\n",
    "| `st.button()`       | Membuat **tombol**, biasanya dikombinasikan dengan `if` untuk aksi tertentu.|\n"
   ]
  },
  {
   "cell_type": "markdown",
   "id": "0ab66903",
   "metadata": {
    "id": "0ab66903"
   },
   "source": [
    "## Komponen Tambahan (Gambar, Radio Button, dll)\n",
    "Kita bisa tambahkan gambar, radio button, dan lainnya:"
   ]
  },
  {
   "cell_type": "code",
   "execution_count": 2,
   "id": "35cd2169",
   "metadata": {
    "id": "35cd2169"
   },
   "outputs": [
    {
     "name": "stderr",
     "output_type": "stream",
     "text": [
      "2025-06-01 14:56:25.996 Thread 'MainThread': missing ScriptRunContext! This warning can be ignored when running in bare mode.\n",
      "2025-06-01 14:56:26.184 Thread 'MainThread': missing ScriptRunContext! This warning can be ignored when running in bare mode.\n",
      "2025-06-01 14:56:26.185 Thread 'MainThread': missing ScriptRunContext! This warning can be ignored when running in bare mode.\n",
      "2025-06-01 14:56:26.185 Thread 'MainThread': missing ScriptRunContext! This warning can be ignored when running in bare mode.\n",
      "2025-06-01 14:56:26.186 Thread 'MainThread': missing ScriptRunContext! This warning can be ignored when running in bare mode.\n",
      "2025-06-01 14:56:26.186 Thread 'MainThread': missing ScriptRunContext! This warning can be ignored when running in bare mode.\n",
      "2025-06-01 14:56:26.186 Thread 'MainThread': missing ScriptRunContext! This warning can be ignored when running in bare mode.\n",
      "2025-06-01 14:56:26.187 Thread 'MainThread': missing ScriptRunContext! This warning can be ignored when running in bare mode.\n",
      "2025-06-01 14:56:26.187 Thread 'MainThread': missing ScriptRunContext! This warning can be ignored when running in bare mode.\n",
      "2025-06-01 14:56:26.188 Thread 'MainThread': missing ScriptRunContext! This warning can be ignored when running in bare mode.\n",
      "2025-06-01 14:56:26.188 Thread 'MainThread': missing ScriptRunContext! This warning can be ignored when running in bare mode.\n",
      "2025-06-01 14:56:26.189 Thread 'MainThread': missing ScriptRunContext! This warning can be ignored when running in bare mode.\n",
      "2025-06-01 14:56:26.189 Thread 'MainThread': missing ScriptRunContext! This warning can be ignored when running in bare mode.\n",
      "2025-06-01 14:56:26.190 Thread 'MainThread': missing ScriptRunContext! This warning can be ignored when running in bare mode.\n"
     ]
    }
   ],
   "source": [
    "st.image(\"logo.png\", caption=\"Logo Quiz\", width=200)\n",
    "\n",
    "question = \"Apa ibu kota Indonesia?\"\n",
    "options = [\"Jakarta\", \"Bandung\", \"Surabaya\"]\n",
    "\n",
    "answer = st.radio(question, options)\n",
    "\n",
    "if st.button(\"Submit Jawaban\"):\n",
    "    if answer == \"Jakarta\":\n",
    "        st.success(\"Jawaban kamu benar!\")\n",
    "    else:\n",
    "        st.error(\"Jawaban salah, coba lagi!\")"
   ]
  },
  {
   "cell_type": "markdown",
   "id": "cc78908f",
   "metadata": {
    "id": "cc78908f"
   },
   "source": [
    "Penjelasan komponen\n",
    "| **Komponen**            | **Fungsi**                                                                      |\n",
    "|-------------------------|----------------------------------------------------------------------------------|\n",
    "| `st.image()`            | Menampilkan **gambar** dari file lokal atau URL.                                |\n",
    "| `st.radio()`            | Menampilkan **pilihan ganda** (radio button) yang hanya bisa memilih satu opsi. |\n",
    "| `st.success()`          | Menampilkan pesan sukses dengan **feedback visual berwarna hijau**.             |\n",
    "| `st.error()`            | Menampilkan pesan error dengan **feedback visual berwarna merah**.              |"
   ]
  },
  {
   "cell_type": "markdown",
   "id": "852082da",
   "metadata": {
    "id": "852082da"
   },
   "source": [
    "## Menjalankan & Deploy Aplikasi\n",
    "\n",
    "### Jalankan Aplikasi:\n",
    "Setelah menyimpan file app.py, jalankan perintah ini di terminal:\n",
    "`streamlit run app.py`\n",
    "\n",
    "Browser akan terbuka otomatis dengan aplikasi quiz kamu.\n",
    "\n",
    "### Deploy Aplikasi:\n",
    "Kamu bisa deploy aplikasi kamu secara gratis dengan:\n",
    "Streamlit Community Cloud: https://streamlit.io/cloud\n",
    "Langkah:\n",
    "- Push kodenya ke GitHub\n",
    "- Login ke Streamlit Cloud\n",
    "- Hubungkan repo GitHub kamu\n",
    "- Klik “Deploy”\n"
   ]
  },
  {
   "cell_type": "markdown",
   "id": "f3770652",
   "metadata": {
    "id": "f3770652"
   },
   "source": [
    "## Studi Kasus\n",
    "Membuat Pertanyaan Quiz Dinamis\n"
   ]
  },
  {
   "cell_type": "code",
   "execution_count": 3,
   "id": "bad378ef",
   "metadata": {
    "id": "bad378ef"
   },
   "outputs": [
    {
     "name": "stderr",
     "output_type": "stream",
     "text": [
      "2025-06-01 14:56:41.228 Thread 'MainThread': missing ScriptRunContext! This warning can be ignored when running in bare mode.\n",
      "2025-06-01 14:56:41.228 Thread 'MainThread': missing ScriptRunContext! This warning can be ignored when running in bare mode.\n",
      "2025-06-01 14:56:41.228 Thread 'MainThread': missing ScriptRunContext! This warning can be ignored when running in bare mode.\n",
      "2025-06-01 14:56:41.229 Thread 'MainThread': missing ScriptRunContext! This warning can be ignored when running in bare mode.\n",
      "2025-06-01 14:56:41.230 Thread 'MainThread': missing ScriptRunContext! This warning can be ignored when running in bare mode.\n",
      "2025-06-01 14:56:41.230 Thread 'MainThread': missing ScriptRunContext! This warning can be ignored when running in bare mode.\n",
      "2025-06-01 14:56:41.231 Thread 'MainThread': missing ScriptRunContext! This warning can be ignored when running in bare mode.\n",
      "2025-06-01 14:56:41.231 Thread 'MainThread': missing ScriptRunContext! This warning can be ignored when running in bare mode.\n",
      "2025-06-01 14:56:41.232 Thread 'MainThread': missing ScriptRunContext! This warning can be ignored when running in bare mode.\n",
      "2025-06-01 14:56:41.232 Thread 'MainThread': missing ScriptRunContext! This warning can be ignored when running in bare mode.\n",
      "2025-06-01 14:56:41.233 Thread 'MainThread': missing ScriptRunContext! This warning can be ignored when running in bare mode.\n",
      "2025-06-01 14:56:41.233 Thread 'MainThread': missing ScriptRunContext! This warning can be ignored when running in bare mode.\n",
      "2025-06-01 14:56:41.234 Thread 'MainThread': missing ScriptRunContext! This warning can be ignored when running in bare mode.\n",
      "2025-06-01 14:56:41.235 Thread 'MainThread': missing ScriptRunContext! This warning can be ignored when running in bare mode.\n",
      "2025-06-01 14:56:41.235 Thread 'MainThread': missing ScriptRunContext! This warning can be ignored when running in bare mode.\n",
      "2025-06-01 14:56:41.236 Thread 'MainThread': missing ScriptRunContext! This warning can be ignored when running in bare mode.\n",
      "2025-06-01 14:56:41.236 Thread 'MainThread': missing ScriptRunContext! This warning can be ignored when running in bare mode.\n",
      "2025-06-01 14:56:41.237 Thread 'MainThread': missing ScriptRunContext! This warning can be ignored when running in bare mode.\n",
      "2025-06-01 14:56:41.237 Thread 'MainThread': missing ScriptRunContext! This warning can be ignored when running in bare mode.\n",
      "2025-06-01 14:56:41.238 Thread 'MainThread': missing ScriptRunContext! This warning can be ignored when running in bare mode.\n",
      "2025-06-01 14:56:41.238 Thread 'MainThread': missing ScriptRunContext! This warning can be ignored when running in bare mode.\n",
      "2025-06-01 14:56:41.239 Thread 'MainThread': missing ScriptRunContext! This warning can be ignored when running in bare mode.\n",
      "2025-06-01 14:56:41.239 Thread 'MainThread': missing ScriptRunContext! This warning can be ignored when running in bare mode.\n"
     ]
    }
   ],
   "source": [
    "score = 0\n",
    "\n",
    "qna = {\n",
    "    \"1 + 1 = ?\": \"2\",\n",
    "    \"Hewan berkaki 8?\": \"Laba-laba\",\n",
    "    \"Bahasa pemrograman populer untuk AI?\": \"Python\"\n",
    "}\n",
    "\n",
    "for q, a in qna.items():\n",
    "    user_answer = st.text_input(q, key=q)\n",
    "    if user_answer:\n",
    "        if user_answer.lower() == a.lower():\n",
    "            st.success(\"Benar!\")\n",
    "            score += 1\n",
    "        else:\n",
    "            st.warning(\"Salah!\")\n",
    "\n",
    "if st.button(\"Lihat Skor\"):\n",
    "    st.write(f\"Skor akhir kamu adalah: {score} dari {len(qna)}\")"
   ]
  },
  {
   "cell_type": "markdown",
   "id": "431d1790",
   "metadata": {
    "id": "431d1790"
   },
   "source": [
    "# Tantangan\n",
    "Yuk kerjakan tantangan di bawah ini! Sebelum mengerjakan tantangan, jangan lupa masukkan student ID kamu ya!"
   ]
  },
  {
   "cell_type": "code",
   "execution_count": 6,
   "id": "6ad04041",
   "metadata": {
    "id": "6ad04041"
   },
   "outputs": [
    {
     "name": "stdout",
     "output_type": "stream",
     "text": [
      "Requirement already satisfied: rggrader in c:\\users\\yudy\\appdata\\local\\programs\\python\\python312\\lib\\site-packages (0.1.6)Note: you may need to restart the kernel to use updated packages.\n",
      "\n",
      "Requirement already satisfied: requests in c:\\users\\yudy\\appdata\\local\\programs\\python\\python312\\lib\\site-packages (from rggrader) (2.32.3)\n",
      "Requirement already satisfied: pandas in c:\\users\\yudy\\appdata\\local\\programs\\python\\python312\\lib\\site-packages (from rggrader) (2.2.1)\n",
      "Requirement already satisfied: Pillow in c:\\users\\yudy\\appdata\\local\\programs\\python\\python312\\lib\\site-packages (from rggrader) (10.2.0)\n",
      "Requirement already satisfied: numpy<2,>=1.26.0 in c:\\users\\yudy\\appdata\\local\\programs\\python\\python312\\lib\\site-packages (from pandas->rggrader) (1.26.4)\n",
      "Requirement already satisfied: python-dateutil>=2.8.2 in c:\\users\\yudy\\appdata\\roaming\\python\\python312\\site-packages (from pandas->rggrader) (2.8.2)\n",
      "Requirement already satisfied: pytz>=2020.1 in c:\\users\\yudy\\appdata\\local\\programs\\python\\python312\\lib\\site-packages (from pandas->rggrader) (2024.1)\n",
      "Requirement already satisfied: tzdata>=2022.7 in c:\\users\\yudy\\appdata\\local\\programs\\python\\python312\\lib\\site-packages (from pandas->rggrader) (2024.1)\n",
      "Requirement already satisfied: charset-normalizer<4,>=2 in c:\\users\\yudy\\appdata\\local\\programs\\python\\python312\\lib\\site-packages (from requests->rggrader) (3.4.1)\n",
      "Requirement already satisfied: idna<4,>=2.5 in c:\\users\\yudy\\appdata\\local\\programs\\python\\python312\\lib\\site-packages (from requests->rggrader) (3.10)\n",
      "Requirement already satisfied: urllib3<3,>=1.21.1 in c:\\users\\yudy\\appdata\\local\\programs\\python\\python312\\lib\\site-packages (from requests->rggrader) (2.3.0)\n",
      "Requirement already satisfied: certifi>=2017.4.17 in c:\\users\\yudy\\appdata\\local\\programs\\python\\python312\\lib\\site-packages (from requests->rggrader) (2025.1.31)\n",
      "Requirement already satisfied: six>=1.5 in c:\\users\\yudy\\appdata\\roaming\\python\\python312\\site-packages (from python-dateutil>=2.8.2->pandas->rggrader) (1.16.0)\n"
     ]
    },
    {
     "name": "stderr",
     "output_type": "stream",
     "text": [
      "\n",
      "[notice] A new release of pip is available: 24.0 -> 25.1.1\n",
      "[notice] To update, run: python.exe -m pip install --upgrade pip\n"
     ]
    }
   ],
   "source": [
    "%pip install rggrader\n",
    "\n",
    "from rggrader import submit\n",
    "\n",
    "# @title #### Student Identity\n",
    "student_id = \"your_student_id\"  # @param {type:\"string\"}\n",
    "name = \"your_name\"  # @param {type:\"string\"}"
   ]
  },
  {
   "cell_type": "markdown",
   "id": "67fa4224",
   "metadata": {
    "id": "67fa4224"
   },
   "source": [
    "## Tantangan 1 - Menebak Komponen Streamlit yang Tepat"
   ]
  },
  {
   "cell_type": "code",
   "execution_count": 12,
   "id": "cc5047cd",
   "metadata": {
    "id": "cc5047cd"
   },
   "outputs": [
    {
     "name": "stdout",
     "output_type": "stream",
     "text": [
      "Soal 1: st.text_input\n",
      "Soal 2: st.button\n",
      "Soal 3: st.selectbox\n",
      "Soal 4: Nomor soal tidak valid.\n"
     ]
    },
    {
     "data": {
      "text/plain": [
       "'Assignment successfully submitted'"
      ]
     },
     "execution_count": 12,
     "metadata": {},
     "output_type": "execute_result"
    }
   ],
   "source": [
    "# @title #### 10. Menebak Komponen Streamlit yang Tepat\n",
    "from rggrader import submit\n",
    "\n",
    "# Deskripsi soal:\n",
    "# Streamlit memiliki berbagai komponen interaktif seperti text input, tombol, dan dropdown.\n",
    "# Pilih komponen yang paling sesuai dengan deskripsi di bawah ini.\n",
    "\n",
    "# Soal:\n",
    "# 1. Komponen apa yang digunakan untuk meminta pengguna memasukkan teks?\n",
    "# 2. Komponen apa yang digunakan untuk membuat tombol yang bisa ditekan oleh pengguna?\n",
    "# 3. Komponen apa yang digunakan untuk membuat dropdown list pilihan?\n",
    "\n",
    "# TODO: Buatlah fungsi `streamlit_component` yang menerima nomor soal sebagai input dan\n",
    "# mengembalikan nama komponen Streamlit yang sesuai (misalnya \"st.text_input\", \"st.button\", dll).\n",
    "# Lengkapi kode fungsi ini agar dapat memberikan jawaban yang benar.\n",
    "\n",
    "def streamlit_component(question_number):\n",
    "    # ---- Tulis kode kamu di bawah ini ----\n",
    "    if question_number == 1:\n",
    "        return \"st.text_input\"  # Komponen untuk input teks\n",
    "    elif question_number == 2:\n",
    "        return \"st.button\"  # Komponen untuk tombol\n",
    "    elif question_number == 3:\n",
    "        return \"st.selectbox\"  # Komponen untuk dropdown list\n",
    "    else:\n",
    "        return \"Nomor soal tidak valid.\"\n",
    "        # st.error(\"Nomor soal tidak valid.\")  # Pesan error jika nomor soal tidak dikenali\n",
    "    # ---- Akhir dari kode kamu ----\n",
    "    #return None  # Ganti dengan hasil yang sesuai\n",
    "\n",
    "# Outputkan hasil untuk setiap soal\n",
    "print(f\"Soal 1: {streamlit_component(1)}\")\n",
    "print(f\"Soal 2: {streamlit_component(2)}\")\n",
    "print(f\"Soal 3: {streamlit_component(3)}\")\n",
    "print(f\"Soal 4: {streamlit_component(4)}\")  # Ini akan menghasilkan error karena tidak ada soal 4\n",
    "\n",
    "# Submit Method\n",
    "assignment_id = \"05-streamlit\"\n",
    "question_id = \"01-streamlit-component\"\n",
    "submit(student_id, name, assignment_id, str(streamlit_component(1)), question_id)\n"
   ]
  }
 ],
 "metadata": {
  "colab": {
   "provenance": []
  },
  "kernelspec": {
   "display_name": "Python 3",
   "language": "python",
   "name": "python3"
  },
  "language_info": {
   "codemirror_mode": {
    "name": "ipython",
    "version": 3
   },
   "file_extension": ".py",
   "mimetype": "text/x-python",
   "name": "python",
   "nbconvert_exporter": "python",
   "pygments_lexer": "ipython3",
   "version": "3.12.2"
  }
 },
 "nbformat": 4,
 "nbformat_minor": 5
}
